{
 "cells": [
  {
   "attachments": {},
   "cell_type": "markdown",
   "metadata": {},
   "source": [
    "# Testzone\n",
    "Script tester zone. Used to try code and ideas."
   ]
  },
  {
   "cell_type": "code",
   "execution_count": 1,
   "metadata": {},
   "outputs": [],
   "source": [
    "import utils\n",
    "import os\n",
    "import time\n",
    "import pandas as pd\n",
    "import numpy as np\n",
    "\n",
    "# machine learning\n",
    "from sklearn.ensemble import RandomForestClassifier\n",
    "from imblearn.over_sampling import SMOTE"
   ]
  },
  {
   "cell_type": "code",
   "execution_count": null,
   "metadata": {},
   "outputs": [],
   "source": [
    "# program parameters\n",
    "from dataclasses import dataclass\n",
    "\n",
    "@dataclass\n",
    "class ProgramParameters:\n",
    "    \"\"\"\n",
    "    Wrapper class for program parameters.\n",
    "    \"\"\"\n",
    "    MODEL_DIR_PATH = os.environ['HOME'] + \"/Documents/code/phdtrack/Smart-and-Naive-SSH-Key-Extraction/smart_ssh_key_extractor/new_models\"\n",
    "    DATASET_DIR_PATH = os.environ['HOME'] + '/Documents/code/phdtrack/phdtrack_data/Performance_Test/Performance_Test/V_7_1_P1/'\n",
    "\n",
    "    def __init__(self, **kwargs):\n",
    "        if (\n",
    "            utils.check_path_exists(self.MODEL_DIR_PATH) and\n",
    "            utils.check_path_exists(self.DATASET_DIR_PATH)\n",
    "        ):\n",
    "            print(\"Program paths are OK.\")\n",
    "        else:\n",
    "            print(\"Program paths are NOT OK.\")\n",
    "            exit(1)\n",
    "        \n",
    "        self.print_params()\n",
    "\n",
    "\n",
    "PARAMS = ProgramParameters()"
   ]
  },
  {
   "cell_type": "code",
   "execution_count": null,
   "metadata": {},
   "outputs": [],
   "source": [
    "# get the data"
   ]
  },
  {
   "cell_type": "code",
   "execution_count": null,
   "metadata": {},
   "outputs": [],
   "source": [
    "# train a new classifier on the data\n",
    "\n",
    "# Use SMOTE oversampling\n",
    "start = time.time()\n",
    "sm = SMOTE()\n",
    "x_train, y_train = sm.fit_resample(dataset, labels)\n",
    "end = time.time()\n",
    "print('Time taken for resampling: %f' % (end - start))\n",
    "\n",
    "# train a new classifier on the resampled data\n",
    "start = time.time()\n",
    "resampled_clf = RandomForestClassifier(n_estimators=5)\n",
    "resampled_clf.fit(X=np.array(x_train), y=y_train)\n",
    "end = time.time()\n",
    "print('Time taken for training the classifier on resampled data: %f' % (end - start))\n"
   ]
  }
 ],
 "metadata": {
  "kernelspec": {
   "display_name": "phdtrack",
   "language": "python",
   "name": "python3"
  },
  "language_info": {
   "codemirror_mode": {
    "name": "ipython",
    "version": 3
   },
   "file_extension": ".py",
   "mimetype": "text/x-python",
   "name": "python",
   "nbconvert_exporter": "python",
   "pygments_lexer": "ipython3",
   "version": "3.10.8 | packaged by conda-forge | (main, Nov 22 2022, 08:26:04) [GCC 10.4.0]"
  },
  "orig_nbformat": 4,
  "vscode": {
   "interpreter": {
    "hash": "828c4622dac9967a1e498ff679a89b1404201a56ae91cf46826d65c256cdc648"
   }
  }
 },
 "nbformat": 4,
 "nbformat_minor": 2
}
